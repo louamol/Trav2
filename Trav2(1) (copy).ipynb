{
 "cells": [
  {
   "cell_type": "code",
   "execution_count": 1,
   "metadata": {},
   "outputs": [],
   "source": [
    "import numpy\n",
    "import sympy\n",
    "from sympy.utilities.lambdify import lambdify\n",
    "from matplotlib import pyplot\n",
    "from matplotlib import animation\n",
    "from IPython.display import HTML\n",
    "%matplotlib inline"
   ]
  },
  {
   "cell_type": "code",
   "execution_count": 2,
   "metadata": {},
   "outputs": [],
   "source": [
    "sympy.init_printing()"
   ]
  },
  {
   "cell_type": "code",
   "execution_count": 60,
   "metadata": {},
   "outputs": [
    {
     "data": {
      "image/png": "[encoded data removed]",
      "text/latex": [
       "$$ξ$$"
      ],
      "text/plain": [
       "ξ"
      ]
     },
     "execution_count": 60,
     "metadata": {},
     "output_type": "execute_result"
    }
   ],
   "source": [
    "xi, t, Ra, k = sympy.symbols('ξ t Ra k')\n",
    "xi"
   ]
  },
  {
   "cell_type": "code",
   "execution_count": 47,
   "metadata": {},
   "outputs": [
    {
     "data": {
      "image/png": "[encoded data removed]",
      "text/latex": [
       "$$\\frac{2.0 ξ}{\\left(\\frac{Ra}{t}\\right)^{0.5}}$$"
      ],
      "text/plain": [
       "          -0.5\n",
       "      ⎛Ra⎞    \n",
       "2.0⋅ξ⋅⎜──⎟    \n",
       "      ⎝t ⎠    "
      ]
     },
     "execution_count": 47,
     "metadata": {},
     "output_type": "execute_result"
    }
   ],
   "source": [
    "z = (xi*(Ra/(4*t))**(-1/2))\n",
    "#z = sympy.Function('z')(xi,t)\n",
    "z"
   ]
  },
  {
   "cell_type": "code",
   "execution_count": 48,
   "metadata": {},
   "outputs": [],
   "source": [
    "omega = sympy.Function('\\omega')(z,t)\n",
    "c = sympy.Function('c')(z,t)\n",
    "c0 = sympy.Function('c_0')(z,t)"
   ]
  },
  {
   "cell_type": "code",
   "execution_count": 49,
   "metadata": {},
   "outputs": [
    {
     "data": {
      "image/png": "[encoded data removed]",
      "text/latex": [
       "$$\\frac{2.0}{\\left(\\frac{Ra}{t}\\right)^{0.5}} \\left. \\frac{\\partial}{\\partial \\xi_{1}} \\omega{\\left (\\xi_{1},t \\right )} \\right|_{\\substack{ \\xi_{1}=\\frac{2.0 ξ}{\\left(\\frac{Ra}{t}\\right)^{0.5}} }}$$"
      ],
      "text/plain": [
       "        -0.5                                       \n",
       "    ⎛Ra⎞     ⎛ ∂                ⎞│             -0.5\n",
       "2.0⋅⎜──⎟    ⋅⎜───(\\omega(ξ₁, t))⎟│         ⎛Ra⎞    \n",
       "    ⎝t ⎠     ⎝∂ξ₁               ⎠│ξ₁=2.0⋅ξ⋅⎜──⎟    \n",
       "                                           ⎝t ⎠    "
      ]
     },
     "execution_count": 49,
     "metadata": {},
     "output_type": "execute_result"
    }
   ],
   "source": [
    "der1_omega_xi = omega.diff(xi)\n",
    "der1_omega_xi"
   ]
  },
  {
   "cell_type": "code",
   "execution_count": 50,
   "metadata": {},
   "outputs": [
    {
     "data": {
      "image/png": "[encoded data removed]",
      "text/latex": [
       "$$\\frac{4.0}{\\left(\\frac{Ra}{t}\\right)^{1.0}} \\left. \\frac{\\partial^{2}}{\\partial \\xi_{1}^{2}}  \\omega{\\left (\\xi_{1},t \\right )} \\right|_{\\substack{ \\xi_{1}=\\frac{2.0 ξ}{\\left(\\frac{Ra}{t}\\right)^{0.5}} }}$$"
      ],
      "text/plain": [
       "        -1.0 ⎛  2                ⎞│                 \n",
       "    ⎛Ra⎞     ⎜ ∂                 ⎟│                 \n",
       "4.0⋅⎜──⎟    ⋅⎜────(\\omega(ξ₁, t))⎟│             -0.5\n",
       "    ⎝t ⎠     ⎜   2               ⎟│         ⎛Ra⎞    \n",
       "             ⎝∂ξ₁                ⎠│ξ₁=2.0⋅ξ⋅⎜──⎟    \n",
       "                                            ⎝t ⎠    "
      ]
     },
     "execution_count": 50,
     "metadata": {},
     "output_type": "execute_result"
    }
   ],
   "source": [
    "der2_omega_xi = der1_omega_xi.diff(xi)\n",
    "der2_omega_xi"
   ]
  },
  {
   "cell_type": "code",
   "execution_count": 51,
   "metadata": {},
   "outputs": [
    {
     "data": {
      "image/png": "[encoded data removed]",
      "text/latex": [
       "$$\\frac{2.0}{\\left(\\frac{Ra}{t}\\right)^{0.5}} \\left. \\frac{\\partial}{\\partial \\xi_{1}} c{\\left (\\xi_{1},t \\right )} \\right|_{\\substack{ \\xi_{1}=\\frac{2.0 ξ}{\\left(\\frac{Ra}{t}\\right)^{0.5}} }}$$"
      ],
      "text/plain": [
       "        -0.5                                  \n",
       "    ⎛Ra⎞     ⎛ ∂           ⎞│             -0.5\n",
       "2.0⋅⎜──⎟    ⋅⎜───(c(ξ₁, t))⎟│         ⎛Ra⎞    \n",
       "    ⎝t ⎠     ⎝∂ξ₁          ⎠│ξ₁=2.0⋅ξ⋅⎜──⎟    \n",
       "                                      ⎝t ⎠    "
      ]
     },
     "execution_count": 51,
     "metadata": {},
     "output_type": "execute_result"
    }
   ],
   "source": [
    "der1_c_xi = c.diff(xi)\n",
    "der1_c_xi"
   ]
  },
  {
   "cell_type": "code",
   "execution_count": 52,
   "metadata": {},
   "outputs": [
    {
     "data": {
      "image/png": "[encoded data removed]",
      "text/latex": [
       "$$\\frac{4.0}{\\left(\\frac{Ra}{t}\\right)^{1.0}} \\left. \\frac{\\partial^{2}}{\\partial \\xi_{1}^{2}}  c{\\left (\\xi_{1},t \\right )} \\right|_{\\substack{ \\xi_{1}=\\frac{2.0 ξ}{\\left(\\frac{Ra}{t}\\right)^{0.5}} }}$$"
      ],
      "text/plain": [
       "        -1.0 ⎛  2           ⎞│                 \n",
       "    ⎛Ra⎞     ⎜ ∂            ⎟│                 \n",
       "4.0⋅⎜──⎟    ⋅⎜────(c(ξ₁, t))⎟│             -0.5\n",
       "    ⎝t ⎠     ⎜   2          ⎟│         ⎛Ra⎞    \n",
       "             ⎝∂ξ₁           ⎠│ξ₁=2.0⋅ξ⋅⎜──⎟    \n",
       "                                       ⎝t ⎠    "
      ]
     },
     "execution_count": 52,
     "metadata": {},
     "output_type": "execute_result"
    }
   ],
   "source": [
    "der2_c_xi = der1_c_xi.diff(xi)\n",
    "der2_c_xi"
   ]
  },
  {
   "cell_type": "code",
   "execution_count": 53,
   "metadata": {},
   "outputs": [
    {
     "data": {
      "image/png": "[encoded data removed]",
      "text/latex": [
       "$$\\left. \\frac{\\partial}{\\partial \\xi_{2}} c{\\left (\\frac{2.0 ξ}{\\left(\\frac{Ra}{t}\\right)^{0.5}},\\xi_{2} \\right )} \\right|_{\\substack{ \\xi_{2}=t }} + \\frac{1.0 ξ}{t \\left(\\frac{Ra}{t}\\right)^{0.5}} \\left. \\frac{\\partial}{\\partial \\xi_{1}} c{\\left (\\xi_{1},t \\right )} \\right|_{\\substack{ \\xi_{1}=\\frac{2.0 ξ}{\\left(\\frac{Ra}{t}\\right)^{0.5}} }}$$"
      ],
      "text/plain": [
       "                                              -0.5                            \n",
       "                                          ⎛Ra⎞     ⎛ ∂           ⎞│           \n",
       "                                    1.0⋅ξ⋅⎜──⎟    ⋅⎜───(c(ξ₁, t))⎟│         ⎛R\n",
       "⎛   ⎛ ⎛          -0.5    ⎞⎞⎞│             ⎝t ⎠     ⎝∂ξ₁          ⎠│ξ₁=2.0⋅ξ⋅⎜─\n",
       "⎜ ∂ ⎜ ⎜      ⎛Ra⎞        ⎟⎟⎟│                                               ⎝t\n",
       "⎜───⎜c⎜2.0⋅ξ⋅⎜──⎟    , ξ₂⎟⎟⎟│     + ──────────────────────────────────────────\n",
       "⎝∂ξ₂⎝ ⎝      ⎝t ⎠        ⎠⎠⎠│ξ₂=t                          t                  \n",
       "\n",
       "      \n",
       "  -0.5\n",
       "a⎞    \n",
       "─⎟    \n",
       " ⎠    \n",
       "──────\n",
       "      "
      ]
     },
     "execution_count": 53,
     "metadata": {},
     "output_type": "execute_result"
    }
   ],
   "source": [
    "der1_c_t = c.diff(t)\n",
    "der1_c_t"
   ]
  },
  {
   "cell_type": "code",
   "execution_count": 61,
   "metadata": {},
   "outputs": [
    {
     "data": {
      "image/png": "[encoded data removed]",
      "text/latex": [
       "$$\\frac{1.0 Ra}{t \\left(\\frac{Ra}{t}\\right)^{1.0}} \\left. \\frac{\\partial^{2}}{\\partial \\xi_{1}^{2}}  \\omega{\\left (\\xi_{1},t \\right )} \\right|_{\\substack{ \\xi_{1}=\\frac{2.0 ξ}{\\left(\\frac{Ra}{t}\\right)^{0.5}} }} - k^{2} \\omega{\\left (\\frac{2.0 ξ}{\\left(\\frac{Ra}{t}\\right)^{0.5}},t \\right )} = - k^{2} c{\\left (\\frac{2.0 ξ}{\\left(\\frac{Ra}{t}\\right)^{0.5}},t \\right )}$$"
      ],
      "text/plain": [
       "           -1.0 ⎛  2                ⎞│                                        \n",
       "       ⎛Ra⎞     ⎜ ∂                 ⎟│                                        \n",
       "1.0⋅Ra⋅⎜──⎟    ⋅⎜────(\\omega(ξ₁, t))⎟│             -0.5                       \n",
       "       ⎝t ⎠     ⎜   2               ⎟│         ⎛Ra⎞                           \n",
       "                ⎝∂ξ₁                ⎠│ξ₁=2.0⋅ξ⋅⎜──⎟                ⎛          \n",
       "                                               ⎝t ⎠        2       ⎜      ⎛Ra⎞\n",
       "─────────────────────────────────────────────────────── - k ⋅\\omega⎜2.0⋅ξ⋅⎜──⎟\n",
       "                           t                                       ⎝      ⎝t ⎠\n",
       "\n",
       "                                   \n",
       "                                   \n",
       "                                   \n",
       "                                   \n",
       "-0.5   ⎞        ⎛          -0.5   ⎞\n",
       "       ⎟     2  ⎜      ⎛Ra⎞       ⎟\n",
       "    , t⎟ = -k ⋅c⎜2.0⋅ξ⋅⎜──⎟    , t⎟\n",
       "       ⎠        ⎝      ⎝t ⎠       ⎠"
      ]
     },
     "execution_count": 61,
     "metadata": {},
     "output_type": "execute_result"
    }
   ],
   "source": [
    "eqt1 = sympy.Eq(Ra/(4*t)*der2_omega_xi-k**2*omega, -k**2*c)\n",
    "eqt1"
   ]
  },
  {
   "cell_type": "code",
   "execution_count": 64,
   "metadata": {},
   "outputs": [
    {
     "data": {
      "image/png": "[encoded data removed]",
      "text/latex": [
       "$$\\left. \\frac{\\partial}{\\partial \\xi_{2}} c{\\left (\\frac{2.0 ξ}{\\left(\\frac{Ra}{t}\\right)^{0.5}},\\xi_{2} \\right )} \\right|_{\\substack{ \\xi_{2}=t }} - \\frac{1.0}{t \\left(\\frac{Ra}{t}\\right)^{1.0}} \\left. \\frac{\\partial^{2}}{\\partial \\xi_{1}^{2}}  c{\\left (\\xi_{1},t \\right )} \\right|_{\\substack{ \\xi_{1}=\\frac{2.0 ξ}{\\left(\\frac{Ra}{t}\\right)^{0.5}} }} + \\frac{k^{2}}{Ra} c{\\left (\\frac{2.0 ξ}{\\left(\\frac{Ra}{t}\\right)^{0.5}},t \\right )} = \\frac{\\sqrt{\\frac{Ra}{t}}}{\\sqrt{\\pi}} \\omega{\\left (\\frac{2.0 ξ}{\\left(\\frac{Ra}{t}\\right)^{0.5}},t \\right )} e^{- ξ^{2}}$$"
      ],
      "text/plain": [
       "                                            -1.0 ⎛  2           ⎞│            \n",
       "                                        ⎛Ra⎞     ⎜ ∂            ⎟│            \n",
       "                                    1.0⋅⎜──⎟    ⋅⎜────(c(ξ₁, t))⎟│            \n",
       "                                        ⎝t ⎠     ⎜   2          ⎟│         ⎛Ra\n",
       "⎛   ⎛ ⎛          -0.5    ⎞⎞⎞│                    ⎝∂ξ₁           ⎠│ξ₁=2.0⋅ξ⋅⎜──\n",
       "⎜ ∂ ⎜ ⎜      ⎛Ra⎞        ⎟⎟⎟│                                              ⎝t \n",
       "⎜───⎜c⎜2.0⋅ξ⋅⎜──⎟    , ξ₂⎟⎟⎟│     - ──────────────────────────────────────────\n",
       "⎝∂ξ₂⎝ ⎝      ⎝t ⎠        ⎠⎠⎠│ξ₂=t                          t                  \n",
       "\n",
       "                                                                         \n",
       "                                                                         \n",
       " -0.5       ⎛          -0.5   ⎞       ____       ⎛          -0.5   ⎞    2\n",
       "⎞        2  ⎜      ⎛Ra⎞       ⎟      ╱ Ra        ⎜      ⎛Ra⎞       ⎟  -ξ \n",
       "⎟       k ⋅c⎜2.0⋅ξ⋅⎜──⎟    , t⎟     ╱  ── ⋅\\omega⎜2.0⋅ξ⋅⎜──⎟    , t⎟⋅ℯ   \n",
       "⎠           ⎝      ⎝t ⎠       ⎠   ╲╱   t         ⎝      ⎝t ⎠       ⎠     \n",
       "───── + ─────────────────────── = ───────────────────────────────────────\n",
       "                   Ra                                √π                  "
      ]
     },
     "execution_count": 64,
     "metadata": {},
     "output_type": "execute_result"
    }
   ],
   "source": [
    "eqt2 = sympy.Eq(der1_c_t-1/Rader2_c_z,)\n",
    "eqt2"
   ]
  },
  {
   "cell_type": "code",
   "execution_count": null,
   "metadata": {},
   "outputs": [],
   "source": []
  }
 ],
 "metadata": {
  "kernelspec": {
   "display_name": "Python 3",
   "language": "python",
   "name": "python3"
  },
  "language_info": {
   "codemirror_mode": {
    "name": "ipython",
    "version": 3
   },
   "file_extension": ".py",
   "mimetype": "text/x-python",
   "name": "python",
   "nbconvert_exporter": "python",
   "pygments_lexer": "ipython3",
   "version": "3.6.6"
  }
 },
 "nbformat": 4,
 "nbformat_minor": 2
}
